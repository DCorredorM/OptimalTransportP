{
 "cells": [
  {
   "cell_type": "code",
   "execution_count": 1,
   "id": "f4042895",
   "metadata": {},
   "outputs": [],
   "source": [
    "# from robust_pricing.path_generators import BinomialTree, Uniform, Gaussian, GaussianMartingale, UniformMartingale\n",
    "from martingale_optimal_transport.discrete import *\n",
    "from robust_pricing.marginals_creators.binomial_generator import BinomialGenerator\n",
    "\n",
    "from gurobipy import GRB\n",
    "import torch\n",
    "import numpy as np"
   ]
  },
  {
   "cell_type": "code",
   "execution_count": 2,
   "id": "b9faa74e",
   "metadata": {},
   "outputs": [],
   "source": [
    "max_steps = 100\n",
    "\n",
    "volatility = 0.09\n",
    "granularity = max_steps\n",
    "\n",
    "up_factor = np.exp(volatility * np.sqrt(1 / granularity))\n",
    "# up_factor=1.1\n",
    "# down_factor = 1 / up_factor\n",
    "\n",
    "mu = BinomialGenerator(100, up=up_factor, time_horizon=granularity)"
   ]
  },
  {
   "cell_type": "code",
   "execution_count": 3,
   "id": "3bac0b75",
   "metadata": {},
   "outputs": [
    {
     "data": {
      "text/plain": [
       "1.0090406217738679"
      ]
     },
     "execution_count": 3,
     "metadata": {},
     "output_type": "execute_result"
    }
   ],
   "source": [
    "up_factor"
   ]
  },
  {
   "cell_type": "code",
   "execution_count": 4,
   "id": "786c0985",
   "metadata": {},
   "outputs": [],
   "source": [
    "path_length = 2\n",
    "observed_times = [i * (granularity // path_length) for i in range(1, path_length + 1)]\n",
    "\n",
    "mu_0 = [mu.marginals[i] for i in observed_times]"
   ]
  },
  {
   "cell_type": "code",
   "execution_count": 5,
   "id": "aee20049",
   "metadata": {},
   "outputs": [
    {
     "data": {
      "text/plain": [
       "5151"
      ]
     },
     "execution_count": 5,
     "metadata": {},
     "output_type": "execute_result"
    }
   ],
   "source": [
    "i = 1\n",
    "for p in [len(m.support) for m in mu_0]:\n",
    "    \n",
    "    i *= p\n",
    "i\n"
   ]
  },
  {
   "cell_type": "code",
   "execution_count": 6,
   "id": "b00495cb",
   "metadata": {},
   "outputs": [
    {
     "data": {
      "text/plain": [
       "3.580307290399018"
      ]
     },
     "execution_count": 6,
     "metadata": {},
     "output_type": "execute_result"
    }
   ],
   "source": [
    "mu_0[-1].measure_space.integrate(lambda x: max(x - 100, 0))"
   ]
  },
  {
   "cell_type": "code",
   "execution_count": 7,
   "id": "2829887d",
   "metadata": {},
   "outputs": [],
   "source": [
    "# K = 100\n",
    "# def f(x):\n",
    "#     if isinstance(x, torch.Tensor):\n",
    "#         return torch.relu(x.select(1,-1) - K)\n",
    "#     else:\n",
    "#         return max(x[-1] - K, 0)\n",
    "\n",
    "    \n",
    "# V = torch.Tensor([-1, 1])\n",
    "# def f(x):\n",
    "#     if isinstance(x, torch.Tensor):\n",
    "#         return torch.relu(x.dot(V) - K)\n",
    "#     else:\n",
    "#         return max(x[-1] - K, 0)\n",
    "\n",
    "    \n",
    "def f(x):\n",
    "    if isinstance(x, torch.Tensor):\n",
    "        return torch.relu(x.select(1,-1) - torch.mean(x, 1))\n",
    "    else:\n",
    "        return max(x[-1] - sum(x)/len(x), 0)"
   ]
  },
  {
   "cell_type": "code",
   "execution_count": null,
   "id": "bd1644ad",
   "metadata": {},
   "outputs": [],
   "source": []
  },
  {
   "cell_type": "code",
   "execution_count": 13,
   "id": "8bebce02",
   "metadata": {},
   "outputs": [
    {
     "name": "stdout",
     "output_type": "stream",
     "text": [
      "Set parameter Username\n"
     ]
    },
    {
     "ename": "GurobiError",
     "evalue": "License expired 2023-07-23",
     "output_type": "error",
     "traceback": [
      "\u001b[0;31m---------------------------------------------------------------------------\u001b[0m",
      "\u001b[0;31mGurobiError\u001b[0m                               Traceback (most recent call last)",
      "\u001b[0;32m<ipython-input-13-32d425b2f31e>\u001b[0m in \u001b[0;36m<module>\u001b[0;34m\u001b[0m\n\u001b[0;32m----> 1\u001b[0;31m mot_sup = MartingaleOptimalTransport(\n\u001b[0m\u001b[1;32m      2\u001b[0m     \u001b[0mmu\u001b[0m\u001b[0;34m=\u001b[0m\u001b[0mmu_0\u001b[0m\u001b[0;34m,\u001b[0m\u001b[0;34m\u001b[0m\u001b[0;34m\u001b[0m\u001b[0m\n\u001b[1;32m      3\u001b[0m     \u001b[0mcost_function\u001b[0m\u001b[0;34m=\u001b[0m\u001b[0mf\u001b[0m\u001b[0;34m,\u001b[0m\u001b[0;34m\u001b[0m\u001b[0;34m\u001b[0m\u001b[0m\n\u001b[1;32m      4\u001b[0m     \u001b[0msense\u001b[0m\u001b[0;34m=\u001b[0m\u001b[0mGRB\u001b[0m\u001b[0;34m.\u001b[0m\u001b[0mMAXIMIZE\u001b[0m\u001b[0;34m\u001b[0m\u001b[0;34m\u001b[0m\u001b[0m\n\u001b[1;32m      5\u001b[0m )\n",
      "\u001b[0;32m~/workspace/OptimalTransport/src/optimal_transport/discrete.py\u001b[0m in \u001b[0;36m__init__\u001b[0;34m(self, mu, cost_function, sense, build)\u001b[0m\n\u001b[1;32m     39\u001b[0m         \u001b[0mself\u001b[0m\u001b[0;34m.\u001b[0m\u001b[0mmu\u001b[0m\u001b[0;34m:\u001b[0m \u001b[0mList\u001b[0m\u001b[0;34m[\u001b[0m\u001b[0mDiscreteMeasure\u001b[0m\u001b[0;34m]\u001b[0m\u001b[0;34m\u001b[0m\u001b[0;34m\u001b[0m\u001b[0m\n\u001b[1;32m     40\u001b[0m \u001b[0;34m\u001b[0m\u001b[0m\n\u001b[0;32m---> 41\u001b[0;31m         \u001b[0mself\u001b[0m\u001b[0;34m.\u001b[0m\u001b[0mmodel\u001b[0m \u001b[0;34m=\u001b[0m \u001b[0mgp\u001b[0m\u001b[0;34m.\u001b[0m\u001b[0mModel\u001b[0m\u001b[0;34m(\u001b[0m\u001b[0;34m)\u001b[0m\u001b[0;34m\u001b[0m\u001b[0;34m\u001b[0m\u001b[0m\n\u001b[0m\u001b[1;32m     42\u001b[0m         \u001b[0mself\u001b[0m\u001b[0;34m.\u001b[0m\u001b[0mmodel\u001b[0m\u001b[0;34m.\u001b[0m\u001b[0msetParam\u001b[0m\u001b[0;34m(\u001b[0m\u001b[0;34m'OutputFlag'\u001b[0m\u001b[0;34m,\u001b[0m \u001b[0;36m1\u001b[0m\u001b[0;34m)\u001b[0m\u001b[0;34m\u001b[0m\u001b[0;34m\u001b[0m\u001b[0m\n\u001b[1;32m     43\u001b[0m \u001b[0;34m\u001b[0m\u001b[0m\n",
      "\u001b[0;32msrc/gurobipy/model.pxi\u001b[0m in \u001b[0;36mgurobipy.Model.__init__\u001b[0;34m()\u001b[0m\n",
      "\u001b[0;32msrc/gurobipy/gurobi.pxi\u001b[0m in \u001b[0;36mgurobipy.gurobi._getdefaultenv\u001b[0;34m()\u001b[0m\n",
      "\u001b[0;32msrc/gurobipy/env.pxi\u001b[0m in \u001b[0;36mgurobipy.Env.__init__\u001b[0;34m()\u001b[0m\n",
      "\u001b[0;31mGurobiError\u001b[0m: License expired 2023-07-23"
     ]
    }
   ],
   "source": [
    "mot_sup = MartingaleOptimalTransport(\n",
    "    mu=mu_0, \n",
    "    cost_function=f,\n",
    "    sense=GRB.MAXIMIZE\n",
    ")\n",
    "\n",
    "mot_inf = MartingaleOptimalTransport(\n",
    "    mu=mu_0, \n",
    "    cost_function=f,\n",
    "    sense=GRB.MINIMIZE\n",
    ")"
   ]
  },
  {
   "cell_type": "code",
   "execution_count": 14,
   "id": "6ba392d2",
   "metadata": {},
   "outputs": [
    {
     "ename": "NameError",
     "evalue": "name 'mot_sup' is not defined",
     "output_type": "error",
     "traceback": [
      "\u001b[0;31m---------------------------------------------------------------------------\u001b[0m",
      "\u001b[0;31mNameError\u001b[0m                                 Traceback (most recent call last)",
      "\u001b[0;32m<ipython-input-14-09a309a711c4>\u001b[0m in \u001b[0;36m<module>\u001b[0;34m\u001b[0m\n\u001b[0;32m----> 1\u001b[0;31m \u001b[0mmot_sup\u001b[0m\u001b[0;34m.\u001b[0m\u001b[0msolve\u001b[0m\u001b[0;34m(\u001b[0m\u001b[0;34m)\u001b[0m\u001b[0;34m\u001b[0m\u001b[0;34m\u001b[0m\u001b[0m\n\u001b[0m",
      "\u001b[0;31mNameError\u001b[0m: name 'mot_sup' is not defined"
     ]
    }
   ],
   "source": [
    "mot_sup.solve()"
   ]
  },
  {
   "cell_type": "code",
   "execution_count": 10,
   "id": "52d92ef7",
   "metadata": {},
   "outputs": [
    {
     "ename": "NameError",
     "evalue": "name 'mot_inf' is not defined",
     "output_type": "error",
     "traceback": [
      "\u001b[0;31m---------------------------------------------------------------------------\u001b[0m",
      "\u001b[0;31mNameError\u001b[0m                                 Traceback (most recent call last)",
      "\u001b[0;32m<ipython-input-10-59627e95bff5>\u001b[0m in \u001b[0;36m<module>\u001b[0;34m\u001b[0m\n\u001b[0;32m----> 1\u001b[0;31m \u001b[0mmot_inf\u001b[0m\u001b[0;34m.\u001b[0m\u001b[0msolve\u001b[0m\u001b[0;34m(\u001b[0m\u001b[0;34m)\u001b[0m\u001b[0;34m\u001b[0m\u001b[0;34m\u001b[0m\u001b[0m\n\u001b[0m",
      "\u001b[0;31mNameError\u001b[0m: name 'mot_inf' is not defined"
     ]
    }
   ],
   "source": [
    "mot_inf.solve()"
   ]
  },
  {
   "cell_type": "code",
   "execution_count": 11,
   "id": "5e9ae7d0",
   "metadata": {},
   "outputs": [],
   "source": [
    "import os\n",
    "import matplotlib.pyplot as plt\n",
    "plt.rcParams.update({'font.size': 15})\n",
    "path = '/Users/davidcorredor/Desktop/Tesis_mate/tesis/manuscrit/Figures/slides/from_code'"
   ]
  },
  {
   "cell_type": "code",
   "execution_count": 12,
   "id": "3c85f2f5",
   "metadata": {},
   "outputs": [
    {
     "ename": "NameError",
     "evalue": "name 'mot_sup' is not defined",
     "output_type": "error",
     "traceback": [
      "\u001b[0;31m---------------------------------------------------------------------------\u001b[0m",
      "\u001b[0;31mNameError\u001b[0m                                 Traceback (most recent call last)",
      "\u001b[0;32m<ipython-input-12-ba36bd0e09bf>\u001b[0m in \u001b[0;36m<module>\u001b[0;34m\u001b[0m\n\u001b[0;32m----> 1\u001b[0;31m \u001b[0mmot_sup\u001b[0m\u001b[0;34m.\u001b[0m\u001b[0msolution_object\u001b[0m\u001b[0;34m.\u001b[0m\u001b[0mdraw_slice\u001b[0m\u001b[0;34m(\u001b[0m\u001b[0;36m0\u001b[0m\u001b[0;34m)\u001b[0m\u001b[0;34m\u001b[0m\u001b[0;34m\u001b[0m\u001b[0m\n\u001b[0m\u001b[1;32m      2\u001b[0m \u001b[0mplt\u001b[0m\u001b[0;34m.\u001b[0m\u001b[0msavefig\u001b[0m\u001b[0;34m(\u001b[0m\u001b[0mos\u001b[0m\u001b[0;34m.\u001b[0m\u001b[0mpath\u001b[0m\u001b[0;34m.\u001b[0m\u001b[0mjoin\u001b[0m\u001b[0;34m(\u001b[0m\u001b[0mpath\u001b[0m\u001b[0;34m,\u001b[0m \u001b[0;34m'discrete_2_sup.png'\u001b[0m\u001b[0;34m)\u001b[0m\u001b[0;34m,\u001b[0m \u001b[0mdpi\u001b[0m\u001b[0;34m=\u001b[0m\u001b[0;36m300\u001b[0m\u001b[0;34m)\u001b[0m\u001b[0;34m\u001b[0m\u001b[0;34m\u001b[0m\u001b[0m\n",
      "\u001b[0;31mNameError\u001b[0m: name 'mot_sup' is not defined"
     ]
    }
   ],
   "source": [
    "mot_sup.solution_object.draw_slice(0)\n",
    "plt.savefig(os.path.join(path, 'discrete_2_sup.png'), dpi=300)"
   ]
  },
  {
   "cell_type": "code",
   "execution_count": 104,
   "id": "aef76600",
   "metadata": {},
   "outputs": [
    {
     "data": {
      "image/png": "[encoded data removed]",
      "text/plain": [
       "<Figure size 576x576 with 3 Axes>"
      ]
     },
     "metadata": {
      "needs_background": "light"
     },
     "output_type": "display_data"
    }
   ],
   "source": [
    "mot_inf.solution_object.draw_slice(0)\n",
    "plt.savefig(os.path.join(path, 'discrete_2_inf.png'), dpi=300)"
   ]
  },
  {
   "cell_type": "code",
   "execution_count": 105,
   "id": "476d4fa7",
   "metadata": {},
   "outputs": [
    {
     "name": "stdout",
     "output_type": "stream",
     "text": [
      "1.571983802892677 0.574511202325499\n"
     ]
    }
   ],
   "source": [
    "print(mot_sup.model.obj_val, mot_inf.model.obj_val)"
   ]
  },
  {
   "cell_type": "code",
   "execution_count": 97,
   "id": "d19711df",
   "metadata": {},
   "outputs": [],
   "source": [
    "# n =100 -> 6.768039845540382 5.694280587662192\n",
    "# n =1000 -> 6.772804520574041 5.643967968517473"
   ]
  },
  {
   "cell_type": "code",
   "execution_count": 77,
   "id": "d2870c30",
   "metadata": {},
   "outputs": [],
   "source": [
    "def array_to_bmatrix(array, format_='%.3f'):\n",
    "    begin = '\\\\begin{bmatrix} \\n'\n",
    "    data = ''\n",
    "    for line in array:        \n",
    "        if line.size == 1:\n",
    "            data = data + ' '+ format_ +' &'%line\n",
    "            data = data + r' \\\\'\n",
    "            data = data + '\\n'\n",
    "            continue\n",
    "        for element in line:\n",
    "            data = data + ' %.3f &'%element\n",
    "\n",
    "        data = data + r' \\\\'\n",
    "        data = data + '\\n'\n",
    "    end = '\\end{bmatrix}'\n",
    "    print (begin + data + end)\n",
    "\n"
   ]
  },
  {
   "cell_type": "code",
   "execution_count": null,
   "id": "f045eeff",
   "metadata": {},
   "outputs": [],
   "source": [
    "axis = 0\n",
    "np.allclose(mot_inf.solution_object.coupling.sum(axis=axis),  mot_sup.solution_object.coupling.sum(axis=axis))\n",
    "mot_inf.solution_object.coupling.sum(axis=axis)"
   ]
  },
  {
   "cell_type": "code",
   "execution_count": null,
   "id": "a76a2c19",
   "metadata": {},
   "outputs": [],
   "source": [
    "array_to_bmatrix(mot_inf.solution_object.coupling)"
   ]
  },
  {
   "cell_type": "code",
   "execution_count": null,
   "id": "2ff0b96e",
   "metadata": {},
   "outputs": [],
   "source": [
    "import os \n",
    "from fractions import Fraction\n",
    "# from pymatgen.symmetry.analyzer import SpacegroupAnalyzer\n",
    "# from pymatgen.core import Lattice, Structure, Molecule, IStructure\n",
    "\n",
    "def mat_to_fractions(mat):\n",
    "#     s=IStructure.from_file(os.path.expanduser('~') + '/pymatgen-gap-affine_matrix/EntryWithCollCode136212.cif')\n",
    "    a = SpacegroupAnalyzer(mat, 0.1)\n",
    "    SymOp=a.get_symmetry_operations()\n",
    "    b=SymOp[1].affine_matrix.tolist()\n",
    "\n",
    "    lst=[]\n",
    "    for i in range(len(b)):\n",
    "        lst.append([]) \n",
    "        for j in range(len(b[i])):\n",
    "            print(Fraction(str(b[i][j])),end=',')\n",
    "            lst[i].append(Fraction(str(b[i][j])))\n",
    "            \n",
    "    return lst\n"
   ]
  },
  {
   "cell_type": "code",
   "execution_count": null,
   "id": "aca7440d",
   "metadata": {},
   "outputs": [],
   "source": []
  }
 ],
 "metadata": {
  "kernelspec": {
   "display_name": "RL38",
   "language": "python",
   "name": "rl38"
  },
  "language_info": {
   "codemirror_mode": {
    "name": "ipython",
    "version": 3
   },
   "file_extension": ".py",
   "mimetype": "text/x-python",
   "name": "python",
   "nbconvert_exporter": "python",
   "pygments_lexer": "ipython3",
   "version": "3.8.2"
  }
 },
 "nbformat": 4,
 "nbformat_minor": 5
}
