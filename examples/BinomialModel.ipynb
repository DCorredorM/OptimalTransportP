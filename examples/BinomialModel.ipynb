{
 "cells": [
  {
   "cell_type": "code",
   "execution_count": null,
   "id": "f4042895",
   "metadata": {},
   "outputs": [],
   "source": [
    "# from robust_pricing.path_generators import BinomialTree, Uniform, Gaussian, GaussianMartingale, UniformMartingale\n",
    "from martingale_optimal_transport.discrete import *\n",
    "from robust_pricing.marginals_creators.binomial_generator import BinomialGenerator\n",
    "\n",
    "from gurobipy import GRB\n",
    "import torch\n",
    "import numpy as np"
   ]
  },
  {
   "cell_type": "code",
   "execution_count": null,
   "id": "b9faa74e",
   "metadata": {},
   "outputs": [],
   "source": [
    "max_steps = 100\n",
    "\n",
    "volatility = 0.19\n",
    "granularity = max_steps\n",
    "\n",
    "up_factor = np.exp(volatility * np.sqrt(1 / granularity))\n",
    "down_factor = 1 / up_factor\n",
    "\n",
    "mu = BinomialGenerator(100, up=up_factor, time_horizon=granularity)"
   ]
  },
  {
   "cell_type": "code",
   "execution_count": null,
   "id": "3bac0b75",
   "metadata": {},
   "outputs": [],
   "source": [
    "up_factor"
   ]
  },
  {
   "cell_type": "code",
   "execution_count": null,
   "id": "786c0985",
   "metadata": {},
   "outputs": [],
   "source": [
    "path_length = 4\n",
    "observed_times = [i * (granularity // path_length) for i in range(1, path_length + 1)]\n",
    "\n",
    "mu_0 = [mu.marginals[i] for i in observed_times]"
   ]
  },
  {
   "cell_type": "code",
   "execution_count": null,
   "id": "2829887d",
   "metadata": {},
   "outputs": [],
   "source": [
    "# K = 100\n",
    "# def f(x):\n",
    "#     if isinstance(x, torch.Tensor):\n",
    "#         return torch.relu(x.select(1,-1) - K)\n",
    "#     else:\n",
    "#         return max(x[-1] - K, 0)\n",
    "    \n",
    "    \n",
    "def f(x):\n",
    "    if isinstance(x, torch.Tensor):\n",
    "        return torch.relu(x.select(1,-1) - torch.mean(x, 1))\n",
    "    else:\n",
    "        return max(x[-1] - sum(x)/len(x), 0)"
   ]
  },
  {
   "cell_type": "code",
   "execution_count": null,
   "id": "8bebce02",
   "metadata": {},
   "outputs": [],
   "source": [
    "mot_sup = MartingaleOptimalTransport(\n",
    "    mu=mu_0, \n",
    "    cost_function=f,\n",
    "    sense=GRB.MAXIMIZE\n",
    ")\n",
    "\n",
    "mot_inf = MartingaleOptimalTransport(\n",
    "    mu=mu_0, \n",
    "    cost_function=f,\n",
    "    sense=GRB.MINIMIZE\n",
    ")"
   ]
  },
  {
   "cell_type": "code",
   "execution_count": null,
   "id": "6ba392d2",
   "metadata": {},
   "outputs": [],
   "source": [
    "mot_sup.solve()"
   ]
  },
  {
   "cell_type": "code",
   "execution_count": null,
   "id": "52d92ef7",
   "metadata": {},
   "outputs": [],
   "source": [
    "mot_inf.solve()"
   ]
  },
  {
   "cell_type": "code",
   "execution_count": null,
   "id": "3c85f2f5",
   "metadata": {},
   "outputs": [],
   "source": [
    "mot_sup.solution_object.draw_slice(1)\n",
    "mot_inf.solution_object.draw_slice(1)"
   ]
  },
  {
   "cell_type": "code",
   "execution_count": null,
   "id": "476d4fa7",
   "metadata": {},
   "outputs": [],
   "source": [
    "print(mot_sup.model.obj_val, mot_inf.model.obj_val)"
   ]
  },
  {
   "cell_type": "code",
   "execution_count": null,
   "id": "d19711df",
   "metadata": {},
   "outputs": [],
   "source": [
    "# n =100 -> 6.768039845540382 5.694280587662192\n",
    "# n =1000 -> 6.772804520574041 5.643967968517473"
   ]
  },
  {
   "cell_type": "code",
   "execution_count": null,
   "id": "5eb2d358",
   "metadata": {},
   "outputs": [],
   "source": []
  },
  {
   "cell_type": "code",
   "execution_count": null,
   "id": "7bd31623",
   "metadata": {},
   "outputs": [],
   "source": []
  }
 ],
 "metadata": {
  "kernelspec": {
   "display_name": "RL38",
   "language": "python",
   "name": "rl38"
  },
  "language_info": {
   "codemirror_mode": {
    "name": "ipython",
    "version": 3
   },
   "file_extension": ".py",
   "mimetype": "text/x-python",
   "name": "python",
   "nbconvert_exporter": "python",
   "pygments_lexer": "ipython3",
   "version": "3.8.2"
  }
 },
 "nbformat": 4,
 "nbformat_minor": 5
}
